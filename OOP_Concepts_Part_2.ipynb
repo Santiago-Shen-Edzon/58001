{
  "nbformat": 4,
  "nbformat_minor": 0,
  "metadata": {
    "colab": {
      "provenance": [],
      "authorship_tag": "ABX9TyP+p+hN0lLKB9mzyIsjlnLU",
      "include_colab_link": true
    },
    "kernelspec": {
      "name": "python3",
      "display_name": "Python 3"
    },
    "language_info": {
      "name": "python"
    }
  },
  "cells": [
    {
      "cell_type": "markdown",
      "metadata": {
        "id": "view-in-github",
        "colab_type": "text"
      },
      "source": [
        "<a href=\"https://colab.research.google.com/github/Santiago-Shen-Edzon/OOP-58001/blob/main/OOP_Concepts_Part_2.ipynb\" target=\"_parent\"><img src=\"https://colab.research.google.com/assets/colab-badge.svg\" alt=\"Open In Colab\"/></a>"
      ]
    },
    {
      "cell_type": "code",
      "execution_count": 1,
      "metadata": {
        "colab": {
          "base_uri": "https://localhost:8080/"
        },
        "id": "L2r9KF8QTTn2",
        "outputId": "0cbf9473-e4b7-4a1b-b630-011e001e62b0"
      },
      "outputs": [
        {
          "output_type": "stream",
          "name": "stdout",
          "text": [
            "Griffon Vulture flies above clouds\n",
            "Common Crane flies above clouds\n",
            "Emu is the national bird of the Philippines\n"
          ]
        }
      ],
      "source": [
        "class Birds:\n",
        "  def __init__(self, bird_name):\n",
        "    self.bird_name = bird_name\n",
        "  def flying_bird(self):\n",
        "    print(f\"{self.bird_name} flies above clouds\")\n",
        "  def non_flying_bird(self):\n",
        "    print(f\"{self.bird_name} is the national bird of the Philippines\")\n",
        "\n",
        "vulture = Birds(\"Griffon Vulture\")\n",
        "crane = Birds(\"Common Crane\")\n",
        "emu = Birds(\"Emu\")\n",
        "\n",
        "vulture.flying_bird()\n",
        "crane.flying_bird()\n",
        "emu.non_flying_bird()"
      ]
    },
    {
      "cell_type": "code",
      "source": [
        "#Encapsulation\n",
        "\n",
        "class foo:\n",
        "  def __init__(self, a, b):\n",
        "    self.__a = a\n",
        "    self.__b = b\n",
        "  def add(self):\n",
        "    return self.__a + self.__b\n",
        "\n",
        "foo_object = foo(3,10)\n",
        "foo_object.add()\n",
        "foo_object.a = 50\n",
        "foo_object.add()"
      ],
      "metadata": {
        "colab": {
          "base_uri": "https://localhost:8080/"
        },
        "id": "AySz7aJoZan4",
        "outputId": "51a38bc0-a130-43aa-f3dd-6c85473afc72"
      },
      "execution_count": 9,
      "outputs": [
        {
          "output_type": "execute_result",
          "data": {
            "text/plain": [
              "13"
            ]
          },
          "metadata": {},
          "execution_count": 9
        }
      ]
    },
    {
      "cell_type": "code",
      "source": [
        "class Counter:\n",
        "  def __init__(self):\n",
        "    self.__current = 0\n",
        "  \n",
        "  def increment(self):\n",
        "    self.__current += 1\n",
        "  \n",
        "  def value(self):\n",
        "    return self.__current\n",
        "\n",
        "  def reset(self):\n",
        "    self.__current = 0\n",
        "\n",
        "count = Counter()\n",
        "count.increment()\n",
        "count.value()\n",
        "count.reset()\n",
        "count.increment()\n",
        "count.value()"
      ],
      "metadata": {
        "colab": {
          "base_uri": "https://localhost:8080/"
        },
        "id": "PFkFamYYb3QC",
        "outputId": "c27b4b01-7e65-4200-89af-b27f6e69710f"
      },
      "execution_count": 27,
      "outputs": [
        {
          "output_type": "execute_result",
          "data": {
            "text/plain": [
              "1"
            ]
          },
          "metadata": {},
          "execution_count": 27
        }
      ]
    },
    {
      "cell_type": "code",
      "source": [
        "#Inheritance\n",
        "\n",
        "class Person:\n",
        "  def __init__(self, name, birthday):\n",
        "    self.name = name\n",
        "    self.birthday = birthday\n",
        "  def display(self):\n",
        "    print(f\"My name is\", self.name)\n",
        "    print(f\"My birthday is\", self.birthday)\n",
        "\n",
        "class Student(Person):\n",
        "  pass\n",
        "\n",
        "class Teacher(Person):\n",
        "  pass\n",
        "\n",
        "student = Student(\"Jes\", \"December 25, 0 BC\")\n",
        "student.display()\n",
        "teacher = Teacher(\"Mary\", \"September 8, 18 BC\")\n",
        "teacher.display()"
      ],
      "metadata": {
        "colab": {
          "base_uri": "https://localhost:8080/"
        },
        "id": "o67S9LvVevzi",
        "outputId": "cc55bb8f-128c-479a-8a7f-10e4066c561e"
      },
      "execution_count": 22,
      "outputs": [
        {
          "output_type": "stream",
          "name": "stdout",
          "text": [
            "My name is Jes\n",
            "My birthday is December 25, 0 BC\n",
            "My name is Mary\n",
            "My birthday is September 8, 18 BC\n"
          ]
        }
      ]
    },
    {
      "cell_type": "code",
      "source": [
        "#Create a class name Shapes (5 shapes)\n",
        "#Attributes sides\n",
        "#Create a function/method that display the no. of sides of each Shape\n",
        "#Apply inheritance and encapsulation\n",
        "\n",
        "class Shapes:\n",
        "  def __init__(self, name, sides):\n",
        "    self.__sides = sides\n",
        "    self.__name = name\n",
        "  def display(self):\n",
        "    print(f\"The shape is\", self.__name, f\"and with {self.__sides} sides\")\n",
        "\n",
        "class Rectangle(Shapes):\n",
        "  pass\n",
        "class Square(Shapes):\n",
        "  pass\n",
        "class Triangle(Shapes):\n",
        "  pass\n",
        "class Circle(Shapes):\n",
        "  pass\n",
        "class Pentagon(Shapes):\n",
        "  pass\n",
        "\n",
        "rectangle = Rectangle(\"Rectangle\", \"4\")\n",
        "square = Square(\"Sqaure\", \"4\")\n",
        "triangle = Triangle(\"Triangle\", \"3\")\n",
        "circle = Circle(\"Circle\", \"0\")\n",
        "pentagon = Pentagon(\"Pentagon\", \"5\")\n",
        "\n",
        "rectangle.name = \"I'm a Barbie girl\"\n",
        "square.name = \"Harry Pottahh\"\n",
        "triangle.name = \"Boombastic\"\n",
        "circle.name = \"Yeeeeeeeeeeeeeeeeeeeeeeeeeeeeeeeeet\"\n",
        "pentagon.name = \"Sheeeeeeeeeeeeeeeeeeeeeeeeeesh\"\n",
        "\n",
        "rectangle.sides = \"84654654\"\n",
        "square.sides = \"84165238541321315\"\n",
        "triangle.sides = \"35165413651351651\"\n",
        "circle.sides = \"8612316543516351351\"\n",
        "pentagon.sides = \"121351354894165\"\n",
        "\n",
        "rectangle.display()\n",
        "square.display()\n",
        "triangle.display()\n",
        "circle.display()\n",
        "pentagon.display()"
      ],
      "metadata": {
        "colab": {
          "base_uri": "https://localhost:8080/"
        },
        "id": "CIY1LVLvgyr0",
        "outputId": "89871a76-ca8a-4188-ce76-ac84cfd8d248"
      },
      "execution_count": 33,
      "outputs": [
        {
          "output_type": "stream",
          "name": "stdout",
          "text": [
            "The shape is Rectangle and with 4 sides\n",
            "The shape is Sqaure and with 4 sides\n",
            "The shape is Triangle and with 3 sides\n",
            "The shape is Circle and with 0 sides\n",
            "The shape is Pentagon and with 5 sides\n"
          ]
        }
      ]
    }
  ]
}