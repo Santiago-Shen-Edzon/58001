{
  "nbformat": 4,
  "nbformat_minor": 0,
  "metadata": {
    "colab": {
      "provenance": [],
      "authorship_tag": "ABX9TyPBCdZL1M2B6HtAhk+S4FYP",
      "include_colab_link": true
    },
    "kernelspec": {
      "name": "python3",
      "display_name": "Python 3"
    },
    "language_info": {
      "name": "python"
    }
  },
  "cells": [
    {
      "cell_type": "markdown",
      "metadata": {
        "id": "view-in-github",
        "colab_type": "text"
      },
      "source": [
        "<a href=\"https://colab.research.google.com/github/Santiago-Shen-Edzon/OOP-58001/blob/main/Control_Structure.ipynb\" target=\"_parent\"><img src=\"https://colab.research.google.com/assets/colab-badge.svg\" alt=\"Open In Colab\"/></a>"
      ]
    },
    {
      "cell_type": "markdown",
      "source": [
        "Conditional Statement"
      ],
      "metadata": {
        "id": "a-e4KqOJD5wF"
      }
    },
    {
      "cell_type": "code",
      "execution_count": 11,
      "metadata": {
        "colab": {
          "base_uri": "https://localhost:8080/"
        },
        "id": "PZWsRNzi_Y22",
        "outputId": "2768addd-f5e6-4ec1-b278-84dd6d189d28"
      },
      "outputs": [
        {
          "output_type": "stream",
          "name": "stdout",
          "text": [
            "b is greater than a\n"
          ]
        }
      ],
      "source": [
        "#If Statement\n",
        "\n",
        "a = 12\n",
        "b = 100\n",
        "\n",
        "if b > a:\n",
        "  print(\"b is greater than a\")"
      ]
    },
    {
      "cell_type": "code",
      "source": [
        "x = int(input())\n",
        "y = int(input())\n",
        "\n",
        "if x > y:\n",
        "  print(\"x is greater than y\")\n",
        "elif y > x:\n",
        "  print(\"y is greater than x\")\n",
        "elif x == y:\n",
        "  print(\"Both are equal\")\n",
        "else:\n",
        "  print(\"error\")"
      ],
      "metadata": {
        "colab": {
          "base_uri": "https://localhost:8080/"
        },
        "id": "BrIrfd0bGA_2",
        "outputId": "1e64744c-4e4f-424a-9a67-dae09f4e686e"
      },
      "execution_count": 6,
      "outputs": [
        {
          "output_type": "stream",
          "name": "stdout",
          "text": [
            "15\n",
            "100\n",
            "y is greater than x\n"
          ]
        }
      ]
    },
    {
      "cell_type": "code",
      "source": [
        "x = int(input())\n",
        "y = int(input())\n",
        "\n",
        "print(x, \"and\", y)"
      ],
      "metadata": {
        "colab": {
          "base_uri": "https://localhost:8080/"
        },
        "id": "QYHhJQgkG_U9",
        "outputId": "44c186d8-defc-420a-912c-93aa5191ecef"
      },
      "execution_count": 12,
      "outputs": [
        {
          "output_type": "stream",
          "name": "stdout",
          "text": [
            "5\n",
            "2\n",
            "5 is less than 2\n"
          ]
        }
      ]
    },
    {
      "cell_type": "code",
      "source": [
        "#Elif Statement\n",
        "\n",
        "a = 12\n",
        "b = 10\n",
        "\n",
        "if b > a:\n",
        "  print(\"b is greater than a\")\n",
        "elif a > b:\n",
        "  print(\"a is greater than b\")"
      ],
      "metadata": {
        "colab": {
          "base_uri": "https://localhost:8080/"
        },
        "id": "WVMWTilAHhrb",
        "outputId": "1e6945de-1c9e-4ecd-b831-f09f6aa40619"
      },
      "execution_count": 20,
      "outputs": [
        {
          "output_type": "stream",
          "name": "stdout",
          "text": [
            "a is greater than b\n"
          ]
        }
      ]
    },
    {
      "cell_type": "code",
      "source": [
        "#Else Statement\n",
        "a = 10\n",
        "b = 10\n",
        "\n",
        "if a > b:\n",
        "  print(\"a is greater than b\")\n",
        "elif b > a:\n",
        "  print(\"b is greater than a\")\n",
        "else:\n",
        "  print(\"a and b are equal\")"
      ],
      "metadata": {
        "colab": {
          "base_uri": "https://localhost:8080/"
        },
        "id": "oZZFTVE5H4xZ",
        "outputId": "8f1293c9-72cf-47ac-c30d-2db4bd03a5a9"
      },
      "execution_count": 16,
      "outputs": [
        {
          "output_type": "stream",
          "name": "stdout",
          "text": [
            "a and b are equal\n"
          ]
        }
      ]
    },
    {
      "cell_type": "markdown",
      "source": [
        "Nested If"
      ],
      "metadata": {
        "id": "tEWvfq1eJoLN"
      }
    },
    {
      "cell_type": "code",
      "source": [
        "x = 41\n",
        "import time\n",
        "\n",
        "if x > 10:\n",
        "  print(\"Above 10,\")\n",
        "  time.sleep(1)\n",
        "  if x > 20:\n",
        "    print(\"also above 20,\")\n",
        "    time.sleep(1)\n",
        "    if x > 30:\n",
        "      print(\"also above 30,\")\n",
        "      time.sleep(1)\n",
        "      if x > 40:\n",
        "        print(\"also above 40,\")\n",
        "        time.sleep(1)\n",
        "        if x > 50:\n",
        "          print(\"also above 50,\")\n",
        "        else:\n",
        "          print(\"But below 50\")\n",
        "      else:\n",
        "        print(\"But below 40\")\n",
        "    else:\n",
        "      print(\"But below 30\")\n",
        "  else:\n",
        "    print(\"But below 20\")\n",
        "else:\n",
        "  print(\"Below 10\")"
      ],
      "metadata": {
        "colab": {
          "base_uri": "https://localhost:8080/"
        },
        "id": "chfrouztJpjU",
        "outputId": "a6fb3996-a48b-430f-fbcd-e9f92fb19a0b"
      },
      "execution_count": 24,
      "outputs": [
        {
          "output_type": "stream",
          "name": "stdout",
          "text": [
            "Above 10,\n",
            "also above 20,\n",
            "also above 30,\n",
            "also above 40,\n",
            "But below 50\n"
          ]
        }
      ]
    },
    {
      "cell_type": "markdown",
      "source": [
        "Example 1"
      ],
      "metadata": {
        "id": "z6tnbEyFNBiq"
      }
    },
    {
      "cell_type": "code",
      "source": [
        "#Age Voter Qualification\n",
        "\n",
        "print(\"What is your age?\")\n",
        "x = int(input())\n",
        "\n",
        "if x >= 18:\n",
        "  print(\"You are qualified to be a Voter!\")\n",
        "else:\n",
        "  print(\"Sorry you are not qualified!\")"
      ],
      "metadata": {
        "colab": {
          "base_uri": "https://localhost:8080/"
        },
        "id": "Syb-t2-bNCqQ",
        "outputId": "da0d427a-f6d3-4aef-ca80-66c2f726e1f1"
      },
      "execution_count": 28,
      "outputs": [
        {
          "output_type": "stream",
          "name": "stdout",
          "text": [
            "What is your age?\n",
            "18\n",
            "You are qualified to be a Voter!\n"
          ]
        }
      ]
    },
    {
      "cell_type": "markdown",
      "source": [
        "Example 2"
      ],
      "metadata": {
        "id": "KzgiMK_NN61b"
      }
    },
    {
      "cell_type": "code",
      "source": [
        "#Postive, Negative, or Zero Value\n",
        "\n",
        "print(\"Enter a Number\")\n",
        "x = int(input())\n",
        "\n",
        "if x > 0:\n",
        "  print(\"POSITIVE\")\n",
        "elif x < 0:\n",
        "  print(\"NEGATIVE\")\n",
        "else:\n",
        "  print(\"ZERO\")"
      ],
      "metadata": {
        "colab": {
          "base_uri": "https://localhost:8080/"
        },
        "id": "rBaSLQB-N8RT",
        "outputId": "0eac2cf2-5d3a-4592-e9d2-fc69981f156e"
      },
      "execution_count": 31,
      "outputs": [
        {
          "output_type": "stream",
          "name": "stdout",
          "text": [
            "Enter a Number\n",
            "0\n",
            "ZERO\n"
          ]
        }
      ]
    },
    {
      "cell_type": "markdown",
      "source": [
        "Example 3"
      ],
      "metadata": {
        "id": "lKoZwwKNPvDT"
      }
    },
    {
      "cell_type": "code",
      "source": [
        "from prompt_toolkit.widgets.base import Float\n",
        "#Grading System\n",
        "\n",
        "print(\"Enter your Raw Score: \")\n",
        "x = float(input())\n",
        "\n",
        "if x >= 70:\n",
        "  print(\"You PASSED! 🥳\")\n",
        "elif x < 70 and x >= 65:\n",
        "  print(\"Remidial 🥹\")\n",
        "elif x < 65 and x >= 0:\n",
        "  print(\"Failed! 😭\")\n",
        "elif x < 0 or x > 100:\n",
        "  print(\"Error ❌\")\n",
        "else:\n",
        "  print(\"Please Retry!\")\n",
        "  "
      ],
      "metadata": {
        "colab": {
          "base_uri": "https://localhost:8080/"
        },
        "id": "SBcFonsdPxa9",
        "outputId": "ce41778c-a30e-45c7-9d3f-5056d5ff5c87"
      },
      "execution_count": 43,
      "outputs": [
        {
          "output_type": "stream",
          "name": "stdout",
          "text": [
            "Enter your Raw Score: \n",
            "65\n",
            "Remidial 🥹\n"
          ]
        }
      ]
    }
  ]
}