{
  "nbformat": 4,
  "nbformat_minor": 0,
  "metadata": {
    "colab": {
      "provenance": [],
      "authorship_tag": "ABX9TyNnVqUKJmVwznQcRtjmEgDA",
      "include_colab_link": true
    },
    "kernelspec": {
      "name": "python3",
      "display_name": "Python 3"
    },
    "language_info": {
      "name": "python"
    }
  },
  "cells": [
    {
      "cell_type": "markdown",
      "metadata": {
        "id": "view-in-github",
        "colab_type": "text"
      },
      "source": [
        "<a href=\"https://colab.research.google.com/github/Santiago-Shen-Edzon/OOP-58001/blob/main/Operations_and_Expressions_in_Python.ipynb\" target=\"_parent\"><img src=\"https://colab.research.google.com/assets/colab-badge.svg\" alt=\"Open In Colab\"/></a>"
      ]
    },
    {
      "cell_type": "markdown",
      "source": [
        "Boolean Operators"
      ],
      "metadata": {
        "id": "4JUJqLA8UBjR"
      }
    },
    {
      "cell_type": "code",
      "execution_count": 1,
      "metadata": {
        "colab": {
          "base_uri": "https://localhost:8080/"
        },
        "id": "CJBY6sq4T6sk",
        "outputId": "4eaeee9f-be5e-4557-a255-c69f604aea1b"
      },
      "outputs": [
        {
          "output_type": "stream",
          "name": "stdout",
          "text": [
            "True\n",
            "False\n",
            "False\n"
          ]
        }
      ],
      "source": [
        "print(10 > 9)\n",
        "print(10 == 9)\n",
        "print(10 < 9)"
      ]
    },
    {
      "cell_type": "markdown",
      "source": [
        "Bool() function"
      ],
      "metadata": {
        "id": "7f1Q1fz9UiGX"
      }
    },
    {
      "cell_type": "code",
      "source": [
        "print(bool(\"Maria\"))\n",
        "print(bool(1))\n",
        "print(bool(0))\n",
        "print(bool(None))\n",
        "print(bool(True))"
      ],
      "metadata": {
        "colab": {
          "base_uri": "https://localhost:8080/"
        },
        "id": "-K4eh172Ukyn",
        "outputId": "6d856720-67ab-40fe-a16c-9ed6a73d9c8e"
      },
      "execution_count": 4,
      "outputs": [
        {
          "output_type": "stream",
          "name": "stdout",
          "text": [
            "True\n",
            "True\n",
            "False\n",
            "False\n",
            "True\n"
          ]
        }
      ]
    },
    {
      "cell_type": "markdown",
      "source": [
        "Function can Return a Boolean"
      ],
      "metadata": {
        "id": "ocPlpTQyVhk3"
      }
    },
    {
      "cell_type": "code",
      "source": [
        "def jasperfunction():\n",
        "  return True\n",
        "\n",
        "print(jasperfunction())"
      ],
      "metadata": {
        "colab": {
          "base_uri": "https://localhost:8080/"
        },
        "id": "c19i_r5uVl8v",
        "outputId": "1af067fe-891a-49a9-ec95-805e94d50c22"
      },
      "execution_count": 10,
      "outputs": [
        {
          "output_type": "stream",
          "name": "stdout",
          "text": [
            "True\n"
          ]
        }
      ]
    },
    {
      "cell_type": "code",
      "source": [
        "def Shenpoggers():\n",
        "  return True\n",
        "\n",
        "if Shenpoggers():\n",
        "  print(\"YES Poggers yan!\")\n",
        "else:\n",
        "  print(\"Poggers parin yan!\")"
      ],
      "metadata": {
        "colab": {
          "base_uri": "https://localhost:8080/"
        },
        "id": "pDkZp-qUWkpH",
        "outputId": "03a46ea7-0583-4234-ec71-56d598cc8f0e"
      },
      "execution_count": 12,
      "outputs": [
        {
          "output_type": "stream",
          "name": "stdout",
          "text": [
            "YES Poggers yan!\n"
          ]
        }
      ]
    },
    {
      "cell_type": "markdown",
      "source": [
        "You Try!"
      ],
      "metadata": {
        "id": "ZsXGFIOKXRO2"
      }
    },
    {
      "cell_type": "code",
      "source": [
        "print(10 > 9)\n",
        "\n",
        "a=6\n",
        "b=7\n",
        "print(a == b)\n",
        "print(a != b)"
      ],
      "metadata": {
        "colab": {
          "base_uri": "https://localhost:8080/"
        },
        "id": "pnPN7_rsXTwO",
        "outputId": "d2f0287d-7ddf-42bb-85a6-25e998a51465"
      },
      "execution_count": 13,
      "outputs": [
        {
          "output_type": "stream",
          "name": "stdout",
          "text": [
            "True\n",
            "False\n",
            "True\n"
          ]
        }
      ]
    },
    {
      "cell_type": "markdown",
      "source": [
        "Python Operators"
      ],
      "metadata": {
        "id": "W1TH_CGUY3uF"
      }
    },
    {
      "cell_type": "code",
      "source": [
        "print(11 + 5)\n",
        "print(10 - 5)\n",
        "print(10 * 5)\n",
        "print(10 / 5)\n",
        "print(10 % 3)\n",
        "print(10 // 3)\n",
        "print(10 ** 2)"
      ],
      "metadata": {
        "colab": {
          "base_uri": "https://localhost:8080/"
        },
        "id": "J2aQEvR1YXGe",
        "outputId": "759e841d-f023-473f-8dfc-39996c589210"
      },
      "execution_count": 23,
      "outputs": [
        {
          "output_type": "stream",
          "name": "stdout",
          "text": [
            "16\n",
            "5\n",
            "50\n",
            "2.0\n",
            "1\n",
            "3\n",
            "100\n"
          ]
        }
      ]
    },
    {
      "cell_type": "markdown",
      "source": [
        "Python Bitwise Operator"
      ],
      "metadata": {
        "id": "i7yiZI7eZn62"
      }
    },
    {
      "cell_type": "code",
      "source": [
        "a = 365\n",
        "b = 1\n",
        "\n",
        "a >> b"
      ],
      "metadata": {
        "colab": {
          "base_uri": "https://localhost:8080/"
        },
        "id": "vKVfX4LdZqoV",
        "outputId": "d844d26e-d89c-4e5b-bd3e-ad1d3e5e09d8"
      },
      "execution_count": 48,
      "outputs": [
        {
          "output_type": "execute_result",
          "data": {
            "text/plain": [
              "182"
            ]
          },
          "metadata": {},
          "execution_count": 48
        }
      ]
    },
    {
      "cell_type": "markdown",
      "source": [
        "Assignment Operator"
      ],
      "metadata": {
        "id": "fHIOzw37g_q7"
      }
    },
    {
      "cell_type": "code",
      "source": [
        "x = 5\n",
        "\n",
        "x += 3 #Same as x = x + 3\n",
        "print(x)\n",
        "x -= 3 #Same as x = x - 3\n",
        "print(x)\n",
        "x /= 3 #Same as x = x / 3\n",
        "print(x)\n",
        "x *= 3 #Same as x = x * 3\n",
        "print(x)\n",
        "x %= 3 #Same as x = x % 3"
      ],
      "metadata": {
        "colab": {
          "base_uri": "https://localhost:8080/"
        },
        "id": "o1fHeC4QhCPq",
        "outputId": "13d1a6d7-309b-41dd-f2a5-aac54f8aac7c"
      },
      "execution_count": 54,
      "outputs": [
        {
          "output_type": "stream",
          "name": "stdout",
          "text": [
            "8\n",
            "5\n",
            "1.6666666666666667\n",
            "5.0\n"
          ]
        }
      ]
    },
    {
      "cell_type": "markdown",
      "source": [
        "Logical Operators"
      ],
      "metadata": {
        "id": "Pf7HiZBNjRpK"
      }
    },
    {
      "cell_type": "code",
      "source": [
        "#and or xor not\n",
        "\n",
        "a = True\n",
        "b = False\n",
        "\n",
        "print(not a)\n",
        "print(a and b)\n",
        "print(not(a and b))"
      ],
      "metadata": {
        "colab": {
          "base_uri": "https://localhost:8080/"
        },
        "id": "RMyOvdOzjUAZ",
        "outputId": "e576888b-a93a-465b-a46c-0fe2f97e4794"
      },
      "execution_count": 62,
      "outputs": [
        {
          "output_type": "stream",
          "name": "stdout",
          "text": [
            "False\n",
            "False\n",
            "True\n"
          ]
        }
      ]
    },
    {
      "cell_type": "markdown",
      "source": [
        "Identity Operators"
      ],
      "metadata": {
        "id": "7f5hN61VkCRC"
      }
    },
    {
      "cell_type": "code",
      "source": [
        "a = True\n",
        "b = False\n",
        "\n",
        "print(a is a)\n",
        "print(a is b)"
      ],
      "metadata": {
        "colab": {
          "base_uri": "https://localhost:8080/"
        },
        "id": "N4aY5PZ2kFra",
        "outputId": "f184f77c-55b3-4a91-97ed-b2b6f66c6387"
      },
      "execution_count": 61,
      "outputs": [
        {
          "output_type": "stream",
          "name": "stdout",
          "text": [
            "True\n",
            "False\n"
          ]
        }
      ]
    }
  ]
}