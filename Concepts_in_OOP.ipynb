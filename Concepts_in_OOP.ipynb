{
  "nbformat": 4,
  "nbformat_minor": 0,
  "metadata": {
    "colab": {
      "provenance": [],
      "authorship_tag": "ABX9TyP/oMq4JmrpiRH3x0Qik8SZ",
      "include_colab_link": true
    },
    "kernelspec": {
      "name": "python3",
      "display_name": "Python 3"
    },
    "language_info": {
      "name": "python"
    }
  },
  "cells": [
    {
      "cell_type": "markdown",
      "metadata": {
        "id": "view-in-github",
        "colab_type": "text"
      },
      "source": [
        "<a href=\"https://colab.research.google.com/github/Santiago-Shen-Edzon/OOP-58001/blob/main/Concepts_in_OOP.ipynb\" target=\"_parent\"><img src=\"https://colab.research.google.com/assets/colab-badge.svg\" alt=\"Open In Colab\"/></a>"
      ]
    },
    {
      "cell_type": "code",
      "execution_count": 1,
      "metadata": {
        "id": "JVdAxAkOPIdP"
      },
      "outputs": [],
      "source": [
        "#Class Constructor\n",
        "\n",
        "class Car:\n",
        "  pass"
      ]
    },
    {
      "cell_type": "code",
      "source": [
        "#Create a class\n",
        "\n",
        "class MyNumber:\n",
        "  x = 5\n",
        "\n",
        "num1 = MyNumber()\n",
        "print(num1.x)"
      ],
      "metadata": {
        "colab": {
          "base_uri": "https://localhost:8080/"
        },
        "id": "N87rLy_bPer4",
        "outputId": "3b00ba53-6ef4-4d8c-dfb2-ecbbd0e9b125"
      },
      "execution_count": 2,
      "outputs": [
        {
          "output_type": "stream",
          "name": "stdout",
          "text": [
            "5\n"
          ]
        }
      ]
    },
    {
      "cell_type": "code",
      "source": [
        "class Person:\n",
        "  def __init__(self, name, age):\n",
        "    self.name = name\n",
        "    self.age = age\n",
        "  def myFunction(self):\n",
        "    print(\"Hello, my name is\", self.name, \"I'm\", self.age)\n",
        "person = Person(\"Ana\", 36)\n",
        "\n",
        "person.myFunction()"
      ],
      "metadata": {
        "colab": {
          "base_uri": "https://localhost:8080/"
        },
        "id": "ppBttkFpP_aR",
        "outputId": "7ee1616d-1815-410c-955e-ffdb866c7935"
      },
      "execution_count": 13,
      "outputs": [
        {
          "output_type": "stream",
          "name": "stdout",
          "text": [
            "Hello, my name is Ana I'm 36\n"
          ]
        }
      ]
    },
    {
      "cell_type": "code",
      "source": [
        "#Modify the Object Properties\n",
        "\n",
        "person.name = \"Marco\"\n",
        "print(person.name)\n",
        "person.myFunction()"
      ],
      "metadata": {
        "colab": {
          "base_uri": "https://localhost:8080/"
        },
        "id": "SwZCrQ4DRpeI",
        "outputId": "eba0ab0f-2411-429e-bac0-91fe188c3e42"
      },
      "execution_count": 14,
      "outputs": [
        {
          "output_type": "stream",
          "name": "stdout",
          "text": [
            "Marco\n",
            "Hello, my name is Marco I'm 36\n"
          ]
        }
      ]
    },
    {
      "cell_type": "code",
      "source": [
        "#Deletion of Object Properties\n",
        "\n",
        "del person.age\n",
        "person.myFunction()\n",
        "print(person.name)"
      ],
      "metadata": {
        "colab": {
          "base_uri": "https://localhost:8080/",
          "height": 236
        },
        "id": "yjLUUI3aR-r9",
        "outputId": "07411553-d043-49c5-8165-d58e0a1dd4b8"
      },
      "execution_count": 16,
      "outputs": [
        {
          "output_type": "error",
          "ename": "AttributeError",
          "evalue": "ignored",
          "traceback": [
            "\u001b[0;31m---------------------------------------------------------------------------\u001b[0m",
            "\u001b[0;31mAttributeError\u001b[0m                            Traceback (most recent call last)",
            "\u001b[0;32m<ipython-input-16-6e47faf4480f>\u001b[0m in \u001b[0;36m<module>\u001b[0;34m\u001b[0m\n\u001b[1;32m      1\u001b[0m \u001b[0;31m#Deletion of Object Properties\u001b[0m\u001b[0;34m\u001b[0m\u001b[0;34m\u001b[0m\u001b[0;34m\u001b[0m\u001b[0m\n\u001b[1;32m      2\u001b[0m \u001b[0;34m\u001b[0m\u001b[0m\n\u001b[0;32m----> 3\u001b[0;31m \u001b[0;32mdel\u001b[0m \u001b[0mperson\u001b[0m\u001b[0;34m.\u001b[0m\u001b[0mage\u001b[0m\u001b[0;34m\u001b[0m\u001b[0;34m\u001b[0m\u001b[0m\n\u001b[0m\u001b[1;32m      4\u001b[0m \u001b[0mperson\u001b[0m\u001b[0;34m.\u001b[0m\u001b[0mmyFunction\u001b[0m\u001b[0;34m(\u001b[0m\u001b[0;34m)\u001b[0m\u001b[0;34m\u001b[0m\u001b[0;34m\u001b[0m\u001b[0m\n\u001b[1;32m      5\u001b[0m \u001b[0mprint\u001b[0m\u001b[0;34m(\u001b[0m\u001b[0mperson\u001b[0m\u001b[0;34m.\u001b[0m\u001b[0mname\u001b[0m\u001b[0;34m)\u001b[0m\u001b[0;34m\u001b[0m\u001b[0;34m\u001b[0m\u001b[0m\n",
            "\u001b[0;31mAttributeError\u001b[0m: age"
          ]
        }
      ]
    },
    {
      "cell_type": "code",
      "source": [
        "#Compute for the are of square\n",
        "\n",
        "class Shapes:\n",
        "  def __init__(self, side):     #initial function to name the attributes\n",
        "    self.side = side\n",
        "\n",
        "  def area(self):               #method / formula to compute for the area of a square\n",
        "    return self.side * self.side\n",
        "\n",
        "  def display(self):            #method to display the area\n",
        "    print(\"The area of the sqaure is\", self.area())\n",
        "\n",
        "square = Shapes(4)\n",
        "square.display()"
      ],
      "metadata": {
        "colab": {
          "base_uri": "https://localhost:8080/"
        },
        "id": "MubSqyjjTBc-",
        "outputId": "e4beee97-1faa-4632-cd0b-a62590ba0dd4"
      },
      "execution_count": 17,
      "outputs": [
        {
          "output_type": "stream",
          "name": "stdout",
          "text": [
            "The area of the sqaure is 16\n"
          ]
        }
      ]
    },
    {
      "cell_type": "code",
      "source": [
        "#Create a Python program with the following:\n",
        "#Student as class name\n",
        "#Fullname, Student Number, and School as attribute names\n",
        "#Construct a method to display the values of attributes\n",
        "#Use student as object name\n",
        "\n",
        "class Student:\n",
        "  def __init__(self, fullname, st_num, school):\n",
        "    self.fullname = fullname\n",
        "    self.st_num = st_num\n",
        "    self.school = school\n",
        "\n",
        "  def display(self):\n",
        "    print(f\"I am {self.fullname}, my student number is {self.st_num}, and I study at {self.school}\")\n",
        "\n",
        "print(\"What is your fullname?\")\n",
        "Name = str(input())\n",
        "print(\"Student Number:\")\n",
        "SN = int(input())\n",
        "print(\"What School?\")\n",
        "School = str(input())\n",
        "print(\" \")\n",
        "\n",
        "student = Student(Name, SN, School)\n",
        "student.display()"
      ],
      "metadata": {
        "colab": {
          "base_uri": "https://localhost:8080/"
        },
        "id": "yV3hqSRoUp45",
        "outputId": "3a610572-92de-4cfb-d1f1-582209883649"
      },
      "execution_count": 24,
      "outputs": [
        {
          "output_type": "stream",
          "name": "stdout",
          "text": [
            "What is your fullname?\n",
            "Shen\n",
            "Student Number:\n",
            "564351654\n",
            "What School?\n",
            "Adamson\n",
            " \n",
            "I am Shen, my student number is 564351654, and I study at Adamson\n"
          ]
        }
      ]
    }
  ]
}