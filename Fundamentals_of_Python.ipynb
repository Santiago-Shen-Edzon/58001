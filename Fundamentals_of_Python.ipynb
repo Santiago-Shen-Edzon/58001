{
  "nbformat": 4,
  "nbformat_minor": 0,
  "metadata": {
    "colab": {
      "provenance": [],
      "authorship_tag": "ABX9TyMw0wPkV/362rG4VSebIk8v",
      "include_colab_link": true
    },
    "kernelspec": {
      "name": "python3",
      "display_name": "Python 3"
    },
    "language_info": {
      "name": "python"
    }
  },
  "cells": [
    {
      "cell_type": "markdown",
      "metadata": {
        "id": "view-in-github",
        "colab_type": "text"
      },
      "source": [
        "<a href=\"https://colab.research.google.com/github/Santiago-Shen-Edzon/OOP-58001/blob/main/Fundamentals_of_Python.ipynb\" target=\"_parent\"><img src=\"https://colab.research.google.com/assets/colab-badge.svg\" alt=\"Open In Colab\"/></a>"
      ]
    },
    {
      "cell_type": "markdown",
      "source": [
        "Fundamental of Python"
      ],
      "metadata": {
        "id": "XJqZDz3MRffh"
      }
    },
    {
      "cell_type": "markdown",
      "source": [
        "Information"
      ],
      "metadata": {
        "id": "BfI0lvf-T3oH"
      }
    },
    {
      "cell_type": "code",
      "execution_count": null,
      "metadata": {
        "colab": {
          "base_uri": "https://localhost:8080/"
        },
        "id": "2WcFcQ7aP0J5",
        "outputId": "2426a7ad-ce9c-40df-ddda-52861a5e2427"
      },
      "outputs": [
        {
          "output_type": "stream",
          "name": "stdout",
          "text": [
            "5 > 2\n"
          ]
        }
      ],
      "source": [
        "if 5 > 2:\n",
        "  print(\"5 > 2\")"
      ]
    },
    {
      "cell_type": "markdown",
      "source": [
        "Python Comment"
      ],
      "metadata": {
        "id": "PNDQNxX4SYJv"
      }
    },
    {
      "cell_type": "code",
      "source": [
        "#This is a comment\n",
        "print(\"Hello, World!\")"
      ],
      "metadata": {
        "colab": {
          "base_uri": "https://localhost:8080/"
        },
        "id": "vD6xD_iiSalP",
        "outputId": "e5159211-3b28-45d7-cc9a-3105fe4e2edd"
      },
      "execution_count": null,
      "outputs": [
        {
          "output_type": "stream",
          "name": "stdout",
          "text": [
            "Hello, World!\n"
          ]
        }
      ]
    },
    {
      "cell_type": "markdown",
      "source": [
        "Python Variable"
      ],
      "metadata": {
        "id": "yzQ3vEozS6Go"
      }
    },
    {
      "cell_type": "code",
      "source": [
        "#Single value with single variable\n",
        "\n",
        "x = 1\n",
        "\n",
        "#Single variable with multiple values\n",
        "\n",
        "array = [1,2,3]\n",
        "print (array)\n",
        "\n",
        "#Multiple variables with single value\n",
        "\n",
        "a = b = c = \"Shen\"\n",
        "print (a, b, c)\n",
        "print (b)\n",
        "print (c)"
      ],
      "metadata": {
        "colab": {
          "base_uri": "https://localhost:8080/"
        },
        "id": "gMXaYQpOTTd3",
        "outputId": "5da1d8f2-b379-4f77-a243-888b2ae282d6"
      },
      "execution_count": null,
      "outputs": [
        {
          "output_type": "stream",
          "name": "stdout",
          "text": [
            "[1, 2, 3]\n",
            "Shen Shen Shen\n",
            "Shen\n",
            "Shen\n"
          ]
        }
      ]
    },
    {
      "cell_type": "markdown",
      "source": [
        "Python Casting"
      ],
      "metadata": {
        "id": "OGNRhgpvUueW"
      }
    },
    {
      "cell_type": "code",
      "source": [
        "n = int(4)\n",
        "print(n)"
      ],
      "metadata": {
        "colab": {
          "base_uri": "https://localhost:8080/"
        },
        "id": "Wfv90_QkUwCu",
        "outputId": "de539fda-691c-4a2a-cf15-9aa3bb91b13c"
      },
      "execution_count": 1,
      "outputs": [
        {
          "output_type": "stream",
          "name": "stdout",
          "text": [
            "4\n"
          ]
        }
      ]
    },
    {
      "cell_type": "markdown",
      "source": [
        "Type Function"
      ],
      "metadata": {
        "id": "itY31BkAVEU-"
      }
    },
    {
      "cell_type": "code",
      "source": [
        "c = \"Sally\"\n",
        "d = 5.6\n",
        "print(type(c))\n",
        "print(type(d))"
      ],
      "metadata": {
        "colab": {
          "base_uri": "https://localhost:8080/"
        },
        "id": "yIRwICotVGSX",
        "outputId": "75348dc7-c9b2-4fab-8092-e8316b9fe018"
      },
      "execution_count": 3,
      "outputs": [
        {
          "output_type": "stream",
          "name": "stdout",
          "text": [
            "<class 'str'>\n",
            "<class 'float'>\n"
          ]
        }
      ]
    },
    {
      "cell_type": "markdown",
      "source": [
        "Single / Double Quotes"
      ],
      "metadata": {
        "id": "VHfLSWbJwX1p"
      }
    },
    {
      "cell_type": "code",
      "source": [
        "# Double quotes\n",
        "\n",
        "x = \"Sample\"\n",
        "\n",
        "print(x)\n",
        "\n",
        "# Single quote\n",
        "\n",
        "y = 'Sample'\n",
        "\n",
        "print(y)"
      ],
      "metadata": {
        "id": "UaprZSbxwcNV",
        "outputId": "92a1c727-2c61-430f-b60d-38a364799faf",
        "colab": {
          "base_uri": "https://localhost:8080/"
        }
      },
      "execution_count": 2,
      "outputs": [
        {
          "output_type": "stream",
          "name": "stdout",
          "text": [
            "Sample\n",
            "Sample\n"
          ]
        }
      ]
    },
    {
      "cell_type": "markdown",
      "source": [
        "Arithmec Operation"
      ],
      "metadata": {
        "id": "iwfg4E10w2H5"
      }
    },
    {
      "cell_type": "code",
      "source": [
        "x = 5\n",
        "y = 7\n",
        "z = 15\n",
        "\n",
        "#Addition\n",
        "t_1 = x + y\n",
        "#Subtraction\n",
        "t_2 = y - x\n",
        "#Multiplication\n",
        "t_3 = x * y\n",
        "#Division\n",
        "t_4 = z / x\n",
        "#Module\n",
        "t_5 = z % y\n",
        "#Exponentiation\n",
        "t_6 = x ** y\n",
        "#Floor Division\n",
        "t_7 = x // z\n",
        "\n",
        "print(t_1)\n",
        "print(t_2)\n",
        "print(t_3)\n",
        "print(t_4)\n",
        "print(t_5)\n",
        "print(t_6)\n",
        "print(t_7)"
      ],
      "metadata": {
        "id": "ynYOhANDxJvf",
        "outputId": "c061bb51-bba4-48f4-8284-b9fa2bd19387",
        "colab": {
          "base_uri": "https://localhost:8080/"
        }
      },
      "execution_count": 11,
      "outputs": [
        {
          "output_type": "stream",
          "name": "stdout",
          "text": [
            "12\n",
            "2\n",
            "35\n",
            "3.0\n",
            "1\n",
            "78125\n",
            "0\n"
          ]
        }
      ]
    }
  ]
}