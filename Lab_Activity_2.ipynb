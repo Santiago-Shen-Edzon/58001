{
  "nbformat": 4,
  "nbformat_minor": 0,
  "metadata": {
    "colab": {
      "provenance": [],
      "authorship_tag": "ABX9TyOaRRnnSUgcwi89gfN0YKIA",
      "include_colab_link": true
    },
    "kernelspec": {
      "name": "python3",
      "display_name": "Python 3"
    },
    "language_info": {
      "name": "python"
    }
  },
  "cells": [
    {
      "cell_type": "markdown",
      "metadata": {
        "id": "view-in-github",
        "colab_type": "text"
      },
      "source": [
        "<a href=\"https://colab.research.google.com/github/Santiago-Shen-Edzon/OOP-58001/blob/main/Lab_Activity_2.ipynb\" target=\"_parent\"><img src=\"https://colab.research.google.com/assets/colab-badge.svg\" alt=\"Open In Colab\"/></a>"
      ]
    },
    {
      "cell_type": "markdown",
      "source": [
        "General Instructions:\n",
        "\n",
        "1.   Write a Python program that asks the user to enter the radius of a circle and solve its area and perimeter.\n",
        "2.   Create a class name Circle allowing you to build a circle with radius and pi attributes.\n",
        "3.   Create a method Display() the perimeter and area using an instantiation of a class.\n",
        "4.   Create a Perimeter() method to calculate the perimeter of the circle and an Area() method to calculate the area of ​​the circle."
      ],
      "metadata": {
        "id": "18IHoq75yaeb"
      }
    },
    {
      "cell_type": "code",
      "execution_count": 20,
      "metadata": {
        "colab": {
          "base_uri": "https://localhost:8080/"
        },
        "id": "OWSqB0lQyXIb",
        "outputId": "a1ccf7f6-8479-4f21-b07e-54b26ebc2440"
      },
      "outputs": [
        {
          "output_type": "stream",
          "name": "stdout",
          "text": [
            "Please enter your desired radius of your Circle:\n",
            "18.6\n",
            "The area of the circle is: 1086.31\n",
            "While the perimeter is: 116.81\n"
          ]
        }
      ],
      "source": [
        "class Circle:\n",
        "  def __init__(self, radius):\n",
        "    self.radius = radius\n",
        "\n",
        "  def area(self):\n",
        "    return round((3.14) * (self.radius)**2, 2)\n",
        "\n",
        "  def perimeter(self):\n",
        "    return round(2 * (3.14) * self.radius, 2)\n",
        "  \n",
        "  def display(self):\n",
        "    print(\"The area of the circle is:\", self.area())\n",
        "    print(\"While the perimeter is:\", self.perimeter())\n",
        "\n",
        "print(\"Please enter your desired radius of your Circle:\")\n",
        "Radius = float(input())\n",
        "\n",
        "circle = Circle(Radius)\n",
        "circle.display()"
      ]
    }
  ]
}